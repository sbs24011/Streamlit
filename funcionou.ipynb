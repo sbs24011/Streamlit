{
 "cells": [
  {
   "cell_type": "code",
   "execution_count": 6,
   "id": "3af06503",
   "metadata": {},
   "outputs": [
    {
     "name": "stderr",
     "output_type": "stream",
     "text": [
      "2024-05-21 20:47:36.086 WARNING streamlit.runtime.caching.cache_data_api: No runtime found, using MemoryCacheStorageManager\n",
      "2024-05-21 20:47:36.259 \n",
      "  \u001b[33m\u001b[1mWarning:\u001b[0m to view this Streamlit app on a browser, run it with the following\n",
      "  command:\n",
      "\n",
      "    streamlit run C:\\Users\\carla\\AppData\\Local\\Programs\\Python\\Python312\\Lib\\site-packages\\ipykernel_launcher.py [ARGUMENTS]\n",
      "2024-05-21 20:47:36.260 Session state does not function when running a script without `streamlit run`\n",
      "2024-05-21 20:47:36.261 No runtime found, using MemoryCacheStorageManager\n"
     ]
    }
   ],
   "source": [
    "import streamlit as st\n",
    "import pandas as pd\n",
    "import plotly.express as px\n",
    "\n",
    "@st.cache_data(hash_funcs={pd.DataFrame: lambda _: None})\n",
    "def load_data(file):\n",
    "    if file is not None:\n",
    "        return pd.read_csv(file)\n",
    "    return None\n",
    "\n",
    "def plot_data(data, title, year):\n",
    "    st.subheader(title)\n",
    "    summary = data[data['year'] == year].groupby('Partner')['Quantityintonnes'].sum().reset_index()\n",
    "    st.write(summary)\n",
    "    chart = px.bar(summary, x='Quantityintonnes', y='Partner', orientation='h', title=title)\n",
    "    st.plotly_chart(chart)\n",
    "\n",
    "uploaded_imports = st.file_uploader(\"Upload Ireland Imports CSV\", type=\"csv\")\n",
    "uploaded_exports = st.file_uploader(\"Upload Ireland Exports CSV\", type=\"csv\")\n",
    "selected_year = st.selectbox(\"Select Year\", [2021, 2022, 2023])\n",
    "\n",
    "imports_data = load_data(uploaded_imports)\n",
    "exports_data = load_data(uploaded_exports)\n",
    "\n",
    "if imports_data is not None and exports_data is not None:\n",
    "    st.header(\"Dairy Imports and Exports Analysis\")\n",
    "    plot_data(imports_data, f\"Dairy Imports by Partner ({selected_year})\", selected_year)\n",
    "    plot_data(exports_data, f\"Dairy Exports by Partner ({selected_year})\", selected_year)\n"
   ]
  },
  {
   "cell_type": "code",
   "execution_count": null,
   "id": "374af814",
   "metadata": {},
   "outputs": [],
   "source": []
  }
 ],
 "metadata": {
  "kernelspec": {
   "display_name": "Python 3 (ipykernel)",
   "language": "python",
   "name": "python3"
  },
  "language_info": {
   "codemirror_mode": {
    "name": "ipython",
    "version": 3
   },
   "file_extension": ".py",
   "mimetype": "text/x-python",
   "name": "python",
   "nbconvert_exporter": "python",
   "pygments_lexer": "ipython3",
   "version": "3.12.1"
  }
 },
 "nbformat": 4,
 "nbformat_minor": 5
}
